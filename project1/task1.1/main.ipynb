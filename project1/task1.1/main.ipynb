{
 "cells": [
  {
   "cell_type": "code",
   "execution_count": 100,
   "metadata": {
    "collapsed": false
   },
   "outputs": [],
   "source": [
    "import numpy as np\n",
    "import math as mt\n",
    "from PIL import Image as im\n",
    "from matplotlib import pyplot as plt\n",
    "\n",
    "def init_a_default(init_lev, L):\n",
    "    a = [0]\n",
    "    for i in range(L):\n",
    "        a.append((i + 1) * init_lev / L)\n",
    "    a.append(init_lev)\n",
    "    return a\n",
    "\n",
    "def init_a_alt(L, h):\n",
    "    non_zero_indices = [i for i, v in enumerate(h) if v > 0]\n",
    "    a_min = non_zero_indices[0]\n",
    "    a_max = non_zero_indices[-1]\n",
    "    a = [a_min]\n",
    "    for i in range(L):\n",
    "        a.append((i + 1) * (a_max - a_min) / L + a_min)\n",
    "    a.append(a_max)\n",
    "    return a\n",
    "\n",
    "\n",
    "def init_a(init_lev, L, h, schema = 'default'):\n",
    "    if schema == 'default':\n",
    "        return init_a_default(init_lev, L)\n",
    "    else:\n",
    "        return init_a_alt(L, h)\n",
    "\n",
    "def main(img_path, schema = 'default'):\n",
    "    raw_image = im.open(img_path)\n",
    "    image = np.array(raw_image)\n",
    "    width = image[0][:].size\n",
    "    height = image[:][0].size\n",
    "\n",
    "    init_lev = 256\n",
    "    h = [0] * init_lev\n",
    "    for x in image:\n",
    "        for pixel_intensity in x:\n",
    "            h[pixel_intensity] += 1\n",
    "\n",
    "    p = [0] * init_lev\n",
    "    for i, val in enumerate(h):\n",
    "        p[i] = float(val) / (width * height)\n",
    "\n",
    "\n",
    "    L = 8\n",
    "    a = init_a(init_lev, L, h, schema)\n",
    "\n",
    "    b = []\n",
    "    for i in range(L + 1):\n",
    "        b.append(i * init_lev / L + init_lev / (2 * L))\n",
    "\n",
    "\n",
    "    def E(a, b):\n",
    "        sum = 0\n",
    "        for nu in range(1, L + 1):\n",
    "            for x in range(a[nu], a[nu + 1]):\n",
    "                sum += (x - b[nu]) ** 2 * p[x]\n",
    "        return sum\n",
    "\n",
    "\n",
    "    T = 10\n",
    "    a_new = a[:]\n",
    "    b_new = b[:]\n",
    "    prev_err = E(a_new, b_new)\n",
    "    a_prev = a[:]\n",
    "    b_prev = b[:]\n",
    "    for t in range(T):   \n",
    "        for nu in range(1, len(a_new) - 1):\n",
    "            a_new[nu] = int(float((b_new[nu] + b_new[nu - 1])) / 2)\n",
    "\n",
    "        for nu in range(len(b_new)):\n",
    "            numerator = 0\n",
    "            delimeter = 0\n",
    "            for x in range(a_new[nu], a_new[nu + 1]):\n",
    "                numerator += x * p[x]\n",
    "                delimeter += p[x]\n",
    "\n",
    "            if delimeter == 0:\n",
    "                b_new[nu] = 0\n",
    "            else:\n",
    "                b_new[nu] = numerator / delimeter\n",
    "\n",
    "        err = E(a_new, b_new)\n",
    "        if prev_err - err < 0.01:\n",
    "            a_new = a_prev[:]\n",
    "            b_new = b_prev[:]\n",
    "            break\n",
    "        else:\n",
    "            prev_err = err\n",
    "            a_prev = a_new[:]\n",
    "            b_prev = b_new[:]\n",
    "\n",
    "    a_plot = [a_new[0]]\n",
    "    for i in range(1, len(a_new) - 1):\n",
    "        a_plot += [a_new[i]] * 2 \n",
    "    a_plot.append(a_new[-1])\n",
    "\n",
    "    b_plot = []\n",
    "    for el in b_new:\n",
    "        b_plot += [el] * 2\n",
    "\n",
    "    a_plot[0] = 0\n",
    "    a_plot[-1] = init_lev\n",
    "    plt.plot(a_plot, b_plot)\n",
    "    plt.show()\n"
   ]
  },
  {
   "cell_type": "code",
   "execution_count": 101,
   "metadata": {
    "collapsed": false
   },
   "outputs": [
    {
     "data": {
      "image/png": "[encoded data removed]",
      "text/plain": [
       "<matplotlib.figure.Figure at 0x113e00750>"
      ]
     },
     "metadata": {},
     "output_type": "display_data"
    },
    {
     "data": {
      "image/png": "[encoded data removed]",
      "text/plain": [
       "<matplotlib.figure.Figure at 0x114244ed0>"
      ]
     },
     "metadata": {},
     "output_type": "display_data"
    },
    {
     "data": {
      "image/png": "[encoded data removed]",
      "text/plain": [
       "<matplotlib.figure.Figure at 0x1145043d0>"
      ]
     },
     "metadata": {},
     "output_type": "display_data"
    },
    {
     "data": {
      "image/png": "[encoded data removed]",
      "text/plain": [
       "<matplotlib.figure.Figure at 0x114455590>"
      ]
     },
     "metadata": {},
     "output_type": "display_data"
    },
    {
     "data": {
      "image/png": "[encoded data removed]",
      "text/plain": [
       "<matplotlib.figure.Figure at 0x114455850>"
      ]
     },
     "metadata": {},
     "output_type": "display_data"
    },
    {
     "data": {
      "image/png": "[encoded data removed]",
      "text/plain": [
       "<matplotlib.figure.Figure at 0x1148ab490>"
      ]
     },
     "metadata": {},
     "output_type": "display_data"
    }
   ],
   "source": [
    "main('./images/bauckhage-gamma-1.png')\n",
    "main('./images/bauckhage-gamma-1.png', 'alt')\n",
    "main('./images/bauckhage-gamma-2.png')\n",
    "main('./images/bauckhage-gamma-2.png', 'alt')\n",
    "main('./images/bauckhage.jpg')\n",
    "main('./images/bauckhage.jpg', 'alt')"
   ]
  },
  {
   "cell_type": "code",
   "execution_count": null,
   "metadata": {
    "collapsed": true
   },
   "outputs": [],
   "source": []
  }
 ],
 "metadata": {
  "kernelspec": {
   "display_name": "Python 2",
   "language": "python",
   "name": "python2"
  },
  "language_info": {
   "codemirror_mode": {
    "name": "ipython",
    "version": 2
   },
   "file_extension": ".py",
   "mimetype": "text/x-python",
   "name": "python",
   "nbconvert_exporter": "python",
   "pygments_lexer": "ipython2",
   "version": "2.7.13"
  }
 },
 "nbformat": 4,
 "nbformat_minor": 2
}
