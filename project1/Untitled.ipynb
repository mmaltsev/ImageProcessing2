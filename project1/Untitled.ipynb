{
 "cells": [
  {
   "cell_type": "code",
   "execution_count": 69,
   "metadata": {
    "collapsed": false
   },
   "outputs": [],
   "source": [
    "import numpy as np\n",
    "import math as mt\n",
    "from PIL import Image as im\n",
    "from matplotlib import pyplot as plt\n",
    "\n",
    "raw_image = im.open('./bauckhage-gamma-1.png')\n",
    "# raw_image = im.open('./bauckhage.jpg')\n",
    "image = np.array(raw_image)\n",
    "new_image = np.empty([image[:][0].size, image[0][:].size])\n",
    "width = image[0][:].size\n",
    "height = image[:][0].size"
   ]
  },
  {
   "cell_type": "code",
   "execution_count": 70,
   "metadata": {
    "collapsed": false
   },
   "outputs": [],
   "source": [
    "init_lev = 256\n",
    "h = [0] * init_lev\n",
    "for x in image:\n",
    "    for pixel_intensity in x:\n",
    "        h[pixel_intensity] += 1\n",
    "\n",
    "p = [0] * init_lev\n",
    "for i, val in enumerate(h):\n",
    "    p[i] = float(val) / (width * height)"
   ]
  },
  {
   "cell_type": "code",
   "execution_count": 71,
   "metadata": {
    "collapsed": true
   },
   "outputs": [],
   "source": [
    "L = 8"
   ]
  },
  {
   "cell_type": "code",
   "execution_count": 72,
   "metadata": {
    "collapsed": false
   },
   "outputs": [],
   "source": [
    "a = [0]\n",
    "for i in range(L):\n",
    "    a.append((i + 1) * init_lev / L)\n",
    "a.append(256)\n",
    "\n",
    "\n",
    "b = []\n",
    "for i in range(L + 1):\n",
    "    b.append(i * init_lev / L + init_lev / (2 * L))"
   ]
  },
  {
   "cell_type": "code",
   "execution_count": 73,
   "metadata": {
    "collapsed": true
   },
   "outputs": [],
   "source": [
    "def E(a, b):\n",
    "    sum = 0\n",
    "    for nu in range(1, L + 1):\n",
    "        for x in range(a[nu], a[nu + 1]):\n",
    "            sum += (x - b[nu]) ** 2 * p[x]\n",
    "    return sum"
   ]
  },
  {
   "cell_type": "code",
   "execution_count": 74,
   "metadata": {
    "collapsed": false
   },
   "outputs": [],
   "source": [
    "T = 10\n",
    "a_new = a[:]\n",
    "b_new = b[:]\n",
    "prev_err = E(a_new, b_new)\n",
    "for t in range(T):   \n",
    "    for nu in range(1, len(a_new) - 1):\n",
    "        a_new[nu] = int(float((b_new[nu] + b_new[nu - 1])) / 2)\n",
    "    \n",
    "    for nu in range(len(b_new)):\n",
    "        numerator = 0\n",
    "        delimeter = 0\n",
    "        for x in range(a_new[nu], a_new[nu + 1]):\n",
    "            numerator += x * p[x]\n",
    "            delimeter += p[x]\n",
    "        \n",
    "        if delimeter == 0:\n",
    "            b_new[nu] = 0\n",
    "        else:\n",
    "            b_new[nu] = numerator / delimeter\n",
    "    \n",
    "    err = E(a_new, b_new)\n",
    "    if prev_err - err > 0.1:\n",
    "        break\n",
    "    else:\n",
    "        prev_err = err\n",
    "    # print 'a'\n",
    "    # print a_new\n",
    "            \n",
    "    # print 'b'\n",
    "    # print b_new\n",
    "\n",
    "    print err"
   ]
  },
  {
   "cell_type": "code",
   "execution_count": 75,
   "metadata": {
    "collapsed": false
   },
   "outputs": [
    {
     "data": {
      "text/plain": [
       "[0, 32, 64, 96, 128, 160, 192, 224, 256, 256]"
      ]
     },
     "execution_count": 75,
     "metadata": {},
     "output_type": "execute_result"
    }
   ],
   "source": [
    "a_new"
   ]
  },
  {
   "cell_type": "code",
   "execution_count": 76,
   "metadata": {
    "collapsed": false
   },
   "outputs": [
    {
     "data": {
      "text/plain": [
       "[0,\n",
       " 0,\n",
       " 0,\n",
       " 0,\n",
       " 155.5,\n",
       " 183.80552486187844,\n",
       " 213.12866930318052,\n",
       " 233.10793901912842,\n",
       " 0]"
      ]
     },
     "execution_count": 76,
     "metadata": {},
     "output_type": "execute_result"
    }
   ],
   "source": [
    "b_new"
   ]
  },
  {
   "cell_type": "code",
   "execution_count": 77,
   "metadata": {
    "collapsed": false
   },
   "outputs": [
    {
     "name": "stdout",
     "output_type": "stream",
     "text": [
      "[0, 32, 32, 64, 64, 96, 96, 128, 128, 160, 160, 192, 192, 224, 224, 256, 256, 256]\n",
      "[0, 0, 0, 0, 0, 0, 0, 0, 155.5, 155.5, 183.80552486187844, 183.80552486187844, 213.12866930318052, 213.12866930318052, 233.10793901912842, 233.10793901912842, 0, 0]\n"
     ]
    },
    {
     "data": {
      "image/png": "[encoded data removed]",
      "text/plain": [
       "<matplotlib.figure.Figure at 0x10b791a10>"
      ]
     },
     "metadata": {},
     "output_type": "display_data"
    }
   ],
   "source": [
    "a_plot = [a_new[0]]\n",
    "for i in range(1, len(a_new) - 1):\n",
    "    a_plot += [a_new[i]] * 2 \n",
    "a_plot.append(a_new[-1])\n",
    "\n",
    "print a_plot\n",
    "\n",
    "b_plot = []\n",
    "for el in b_new:\n",
    "    b_plot += [el] * 2\n",
    "    \n",
    "print b_plot\n",
    "\n",
    "# a = [0, 64, 128]\n",
    "\n",
    "# a_plot = [0, 32, 32, 64, 64, 96, 96, 128]\n",
    "# b_plot = [1, 1, 2, 2, 3, 3, 4, 4]\n",
    "\n",
    "plt.plot(a_plot, b_plot)\n",
    "plt.show()"
   ]
  },
  {
   "cell_type": "code",
   "execution_count": 52,
   "metadata": {
    "collapsed": false
   },
   "outputs": [
    {
     "data": {
      "text/plain": [
       "[2, 1, 1]"
      ]
     },
     "execution_count": 52,
     "metadata": {},
     "output_type": "execute_result"
    }
   ],
   "source": [
    "test = [2]\n",
    "test + [1, 1]"
   ]
  },
  {
   "cell_type": "code",
   "execution_count": null,
   "metadata": {
    "collapsed": true
   },
   "outputs": [],
   "source": []
  }
 ],
 "metadata": {
  "kernelspec": {
   "display_name": "Python 2",
   "language": "python",
   "name": "python2"
  },
  "language_info": {
   "codemirror_mode": {
    "name": "ipython",
    "version": 2
   },
   "file_extension": ".py",
   "mimetype": "text/x-python",
   "name": "python",
   "nbconvert_exporter": "python",
   "pygments_lexer": "ipython2",
   "version": "2.7.13"
  }
 },
 "nbformat": 4,
 "nbformat_minor": 2
}
