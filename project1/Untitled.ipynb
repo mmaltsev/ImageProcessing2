{
 "cells": [
  {
   "cell_type": "code",
   "execution_count": 516,
   "metadata": {
    "collapsed": false
   },
   "outputs": [],
   "source": [
    "import numpy as np\n",
    "import math as mt\n",
    "from PIL import Image as im\n",
    "from matplotlib import pyplot as plt\n",
    "\n",
    "raw_image = im.open('./bauckhage-gamma-1.png')\n",
    "# raw_image = im.open('./bauckhage.jpg')\n",
    "image = np.array(raw_image)\n",
    "new_image = np.empty([image[:][0].size, image[0][:].size])\n",
    "width = image[0][:].size\n",
    "height = image[:][0].size"
   ]
  },
  {
   "cell_type": "code",
   "execution_count": 517,
   "metadata": {
    "collapsed": false
   },
   "outputs": [],
   "source": [
    "init_lev = 256\n",
    "h = [0] * init_lev\n",
    "for x in image:\n",
    "    for pixel_intensity in x:\n",
    "        h[pixel_intensity] += 1\n",
    "\n",
    "p = [0] * init_lev\n",
    "for i, val in enumerate(h):\n",
    "    p[i] = float(val) / (width * height)"
   ]
  },
  {
   "cell_type": "code",
   "execution_count": 518,
   "metadata": {
    "collapsed": true
   },
   "outputs": [],
   "source": [
    "L = 8"
   ]
  },
  {
   "cell_type": "code",
   "execution_count": 519,
   "metadata": {
    "collapsed": false
   },
   "outputs": [],
   "source": [
    "a = [0]\n",
    "for i in range(L):\n",
    "    a.append((i + 1) * init_lev / L)\n",
    "a.append(256)\n",
    "\n",
    "\n",
    "b = []\n",
    "for i in range(L + 1):\n",
    "    b.append(i * init_lev / L + init_lev / (2 * L))"
   ]
  },
  {
   "cell_type": "code",
   "execution_count": 520,
   "metadata": {
    "collapsed": true
   },
   "outputs": [],
   "source": [
    "def E(a, b):\n",
    "    print a\n",
    "    print b\n",
    "    sum = 0\n",
    "    for nu in range(1, L + 1):\n",
    "        for x in range(a[nu], a[nu + 1]):\n",
    "            sum += (x - b[nu]) ** 2 * p[x]\n",
    "    return sum"
   ]
  },
  {
   "cell_type": "code",
   "execution_count": 521,
   "metadata": {
    "collapsed": false
   },
   "outputs": [
    {
     "name": "stdout",
     "output_type": "stream",
     "text": [
      "[0, 32, 64, 96, 128, 160, 192, 224, 256, 256]\n",
      "[0, 0, 0, 0, 155.5, 183.80552486187844, 213.12866930318052, 233.10793901912842, 0]\n",
      "62.4532937566\n",
      "[0, 0, 0, 0, 77, 169, 198, 223, 116, 256]\n",
      "[0, 0, 0, 0, 162.986301369863, 190.06694781233526, 213.42847000354988, 0, 220.79052734375]\n",
      "223.566658702\n",
      "[0, 0, 0, 0, 81, 176, 201, 106, 110, 256]\n",
      "[0, 0, 0, 0, 169.70517928286853, 193.65011037527594, 0, 0, 220.79052734375]\n",
      "200.217606393\n",
      "[0, 0, 0, 0, 84, 181, 96, 0, 110, 256]\n",
      "[0, 0, 0, 0, 173.68814968814968, 0, 0, 0, 220.79052734375]\n",
      "197.537499723\n",
      "[0, 0, 0, 0, 86, 86, 0, 0, 110, 256]\n",
      "[0, 0, 0, 0, 0, 0, 0, 0, 220.79052734375]\n",
      "197.301488638\n"
     ]
    }
   ],
   "source": [
    "T = 5\n",
    "a_new = a[:]\n",
    "b_new = b[:]\n",
    "for t in range(T):   \n",
    "    for i in range(1, len(a_new) - 1):\n",
    "        a_new[i] = int(float((b_new[i] + b_new[i - 1])) / 2)\n",
    "    \n",
    "    for nu in range(len(b_new)):\n",
    "        numerator = 0\n",
    "        delimeter = 0\n",
    "        for x in range(a_new[nu], a_new[nu + 1]):\n",
    "            numerator += x * p[x]\n",
    "            delimeter += p[x]\n",
    "        \n",
    "        if delimeter == 0:\n",
    "            b_new[nu] = 0\n",
    "        else:\n",
    "            b_new[nu] = numerator / delimeter\n",
    "    \n",
    "    # print 'a'\n",
    "    # print a_new\n",
    "            \n",
    "    # print 'b'\n",
    "    # print b_new\n",
    "\n",
    "    print E(a_new, b_new)\n",
    "        "
   ]
  },
  {
   "cell_type": "code",
   "execution_count": 454,
   "metadata": {
    "collapsed": false
   },
   "outputs": [
    {
     "data": {
      "text/plain": [
       "[0, 32, 64, 96, 128, 160, 192, 224, 255]"
      ]
     },
     "execution_count": 454,
     "metadata": {},
     "output_type": "execute_result"
    }
   ],
   "source": [
    "a_new"
   ]
  },
  {
   "cell_type": "code",
   "execution_count": 439,
   "metadata": {
    "collapsed": false
   },
   "outputs": [
    {
     "data": {
      "text/plain": [
       "[0,\n",
       " 0,\n",
       " 0,\n",
       " 0,\n",
       " 184.36932391523715,\n",
       " 203.20740555416563,\n",
       " 220.64123334949656,\n",
       " 238.25660445952497]"
      ]
     },
     "execution_count": 439,
     "metadata": {},
     "output_type": "execute_result"
    }
   ],
   "source": [
    "b_new"
   ]
  },
  {
   "cell_type": "code",
   "execution_count": 367,
   "metadata": {
    "collapsed": false
   },
   "outputs": [
    {
     "data": {
      "image/png": "[encoded data removed]",
      "text/plain": [
       "<matplotlib.figure.Figure at 0x11437a710>"
      ]
     },
     "metadata": {},
     "output_type": "display_data"
    }
   ],
   "source": [
    "b_plot = b[:]\n",
    "b_plot = [0] + b_plot\n",
    "plt.plot(a, b_plot)\n",
    "plt.show()"
   ]
  },
  {
   "cell_type": "code",
   "execution_count": 143,
   "metadata": {
    "collapsed": false
   },
   "outputs": [
    {
     "data": {
      "text/plain": [
       "[0, 32, 64, 96, 128, 160, 192, 224, 256]"
      ]
     },
     "execution_count": 143,
     "metadata": {},
     "output_type": "execute_result"
    }
   ],
   "source": [
    "a"
   ]
  },
  {
   "cell_type": "code",
   "execution_count": 145,
   "metadata": {
    "collapsed": false
   },
   "outputs": [
    {
     "data": {
      "text/plain": [
       "[0, 16, 48, 80, 112, 144, 176, 208, 240]"
      ]
     },
     "execution_count": 145,
     "metadata": {},
     "output_type": "execute_result"
    }
   ],
   "source": [
    "b_plot"
   ]
  },
  {
   "cell_type": "code",
   "execution_count": 174,
   "metadata": {
    "collapsed": false
   },
   "outputs": [
    {
     "data": {
      "text/plain": [
       "9"
      ]
     },
     "execution_count": 174,
     "metadata": {},
     "output_type": "execute_result"
    }
   ],
   "source": [
    "len(a)"
   ]
  },
  {
   "cell_type": "code",
   "execution_count": 175,
   "metadata": {
    "collapsed": false
   },
   "outputs": [
    {
     "data": {
      "text/plain": [
       "8"
      ]
     },
     "execution_count": 175,
     "metadata": {},
     "output_type": "execute_result"
    }
   ],
   "source": [
    "len(b)"
   ]
  },
  {
   "cell_type": "code",
   "execution_count": 334,
   "metadata": {
    "collapsed": false
   },
   "outputs": [
    {
     "data": {
      "text/plain": [
       "True"
      ]
     },
     "execution_count": 334,
     "metadata": {},
     "output_type": "execute_result"
    }
   ],
   "source": [
    "3 ** 2 * 4 == 36"
   ]
  },
  {
   "cell_type": "code",
   "execution_count": null,
   "metadata": {
    "collapsed": true
   },
   "outputs": [],
   "source": []
  }
 ],
 "metadata": {
  "kernelspec": {
   "display_name": "Python 2",
   "language": "python",
   "name": "python2"
  },
  "language_info": {
   "codemirror_mode": {
    "name": "ipython",
    "version": 2
   },
   "file_extension": ".py",
   "mimetype": "text/x-python",
   "name": "python",
   "nbconvert_exporter": "python",
   "pygments_lexer": "ipython2",
   "version": "2.7.13"
  }
 },
 "nbformat": 4,
 "nbformat_minor": 2
}
