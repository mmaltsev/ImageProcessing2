{
 "cells": [
  {
   "cell_type": "code",
   "execution_count": 30,
   "metadata": {
    "collapsed": false
   },
   "outputs": [],
   "source": [
    "import os\n",
    "import numpy as np\n",
    "import scipy.misc as msc\n",
    "import matplotlib.pyplot as plt\n",
    "import cv2\n",
    "from PIL import Image\n",
    "import plotly.plotly as py\n",
    "import plotly.graph_objs as go"
   ]
  },
  {
   "cell_type": "code",
   "execution_count": 65,
   "metadata": {
    "collapsed": false
   },
   "outputs": [],
   "source": [
    "def draw(vector, shape):\n",
    "    plt.figure()\n",
    "    plt.imshow(np.reshape(vector, shape), 'gray')\n",
    "    plt.axis('off')\n",
    "    plt.show()\n",
    "\n",
    "def save_image(vector, shape, name):\n",
    "    plt.figure()\n",
    "    plt.imshow(np.reshape(vector, shape), 'gray')\n",
    "    plt.axis('off')\n",
    "    plt.savefig('img/' + name, bbox_inches='tight')\n",
    "    \n",
    "def read_names(folder):\n",
    "    files = os.listdir(folder)\n",
    "    return files\n",
    "\n",
    "def read_images(folder, names):\n",
    "    images = [msc.imread(folder + '/' + f) for f in names]\n",
    "    # for index, image in enumerate(images):\n",
    "        #if image.shape != (31, 81):\n",
    "        #    print names[index]\n",
    "        # print image.shape\n",
    "\n",
    "    return images\n",
    "    \n",
    "def flatten(images):\n",
    "    X = np.stack(images, axis=0)\n",
    "    shape = X.shape[1:]\n",
    "    X = [image.flatten() for image in X]\n",
    "    return X, shape\n",
    "\n",
    "def center(images):\n",
    "    mean = np.mean(images, axis=0)\n",
    "    print 'as array shape', np.asarray(images).shape\n",
    "    return (images - mean) / np.std(np.asarray(image)), mean\n",
    "\n",
    "def to_dict(tuple):\n",
    "    return dict([('image', tuple[0]), ('label', tuple[1])])\n",
    "\n",
    "def positive(name):\n",
    "    return 'Pos' in name\n",
    "\n",
    "def negative(name):\n",
    "    return 'Neg' in name\n",
    "\n",
    "def label(names, index):\n",
    "    return 1 if positive(names[index]) else -1\n",
    "\n",
    "def normilize(img, shape):\n",
    "    new_img = Image.fromarray(np.uint8(img))\n",
    "    new_img = new_img.resize(shape[::-1])\n",
    "    return np.asarray(new_img)\n",
    "\n",
    "def vector2matrix(vector, shape):\n",
    "    return np.reshape(vector, shape)\n",
    "\n",
    "def matrix2vector(matrix):\n",
    "    shape = matrix.shape\n",
    "    return matrix.flatten(), shape\n"
   ]
  },
  {
   "cell_type": "code",
   "execution_count": 47,
   "metadata": {
    "collapsed": false
   },
   "outputs": [],
   "source": [
    "train_folder = '../uiucTrain'\n",
    "train_names = read_names(train_folder)"
   ]
  },
  {
   "cell_type": "code",
   "execution_count": 48,
   "metadata": {
    "collapsed": false
   },
   "outputs": [],
   "source": [
    "train_images = read_images(train_folder, train_names)\n",
    "train_images, shape = flatten(train_images)\n",
    "train_images = [to_dict((image, label(train_names, index))) \\\n",
    "                for index, image in enumerate(train_images)]\n"
   ]
  },
  {
   "cell_type": "code",
   "execution_count": 49,
   "metadata": {
    "collapsed": false
   },
   "outputs": [
    {
     "name": "stdout",
     "output_type": "stream",
     "text": [
      "as array shape (124, 2511)\n",
      "as array shape (2442, 2511)\n",
      "as array shape (2566, 2511)\n"
     ]
    }
   ],
   "source": [
    "def center_sets(images):\n",
    "    pos = [image['image'] for image in images \\\n",
    "           if image['label'] == 1]\n",
    "    \n",
    "    centered_pos, mean_pos = center(pos)\n",
    "    \n",
    "    neg = [image['image'] for image in images \\\n",
    "           if image['label'] == -1]\n",
    "    \n",
    "    centered_neg, mean_neg = center(neg)\n",
    "    \n",
    "    full, mean = center([image['image'] for image in images])\n",
    "    \n",
    "    return centered_pos, centered_neg, mean_pos, mean_neg, full, mean\n",
    "\n",
    "pos, neg, mean_pos, mean_neg, full, mean = center_sets(train_images)\n",
    "\n",
    "# draw(mean_pos, (31, 81))\n",
    "# draw(pos[])\n",
    "# print pos.mean(axis=0)\n",
    "\n",
    "\n",
    "# images = [to_dict((image, label(train_names, index))) \\\n",
    "#                for index, image in enumerate(full)]\n",
    "\n",
    "# pos = [image['image'] for image in images \\\n",
    "#           if image['label'] == 1]\n",
    "\n",
    "#neg = [image['image'] for image in images \\\n",
    "#           if image['label'] == -1]\n"
   ]
  },
  {
   "cell_type": "code",
   "execution_count": 50,
   "metadata": {
    "collapsed": false
   },
   "outputs": [],
   "source": [
    "car_number = 12\n",
    "first_car = 2442\n",
    "\n",
    "# draw(mean_neg, shape)\n",
    "# draw(mean_pos, shape)"
   ]
  },
  {
   "cell_type": "code",
   "execution_count": 51,
   "metadata": {
    "collapsed": false
   },
   "outputs": [],
   "source": [
    "size = shape[0] * shape[1]\n",
    "S_pos = np.zeros((size, size))\n",
    "for v in pos:\n",
    "    v1 = v.reshape((size, 1))\n",
    "    v2 = v.reshape((1, size))\n",
    "    S_pos += np.dot(v1, v2)\n",
    "    \n",
    "S_neg = np.zeros((size, size))\n",
    "for v in neg:\n",
    "    v1 = v.reshape((size, 1))\n",
    "    v2 = v.reshape((1, size))\n",
    "    S_neg += np.dot(v1, v2)"
   ]
  },
  {
   "cell_type": "code",
   "execution_count": 58,
   "metadata": {
    "collapsed": false
   },
   "outputs": [
    {
     "data": {
      "image/png": "[encoded data removed]",
      "text/plain": [
       "<matplotlib.figure.Figure at 0x11ca10f90>"
      ]
     },
     "metadata": {},
     "output_type": "display_data"
    },
    {
     "name": "stdout",
     "output_type": "stream",
     "text": [
      "-0.547391209325\n",
      "0.452608790675\n",
      "206.974374891\n"
     ]
    },
    {
     "data": {
      "image/png": "[encoded data removed]",
      "text/plain": [
       "<matplotlib.figure.Figure at 0x13ead6790>"
      ]
     },
     "metadata": {},
     "output_type": "display_data"
    },
    {
     "data": {
      "image/png": "[encoded data removed]",
      "text/plain": [
       "<matplotlib.figure.Figure at 0x11d97e490>"
      ]
     },
     "metadata": {},
     "output_type": "display_data"
    },
    {
     "data": {
      "image/png": "[encoded data removed]",
      "text/plain": [
       "<matplotlib.figure.Figure at 0x11d97ec90>"
      ]
     },
     "metadata": {},
     "output_type": "display_data"
    }
   ],
   "source": [
    "# draw(S_pos, (size, size))\n",
    "# draw(S_neg, (size, size))\n",
    "Sw = S_neg + S_pos\n",
    "# Sw = Sw.T\n",
    "# Sw, S_neg, S_pos, Sw_inv\n",
    "\n",
    "# draw(Sw, (size, size))\n",
    "Sw_inv = np.linalg.inv(Sw)\n",
    "# Sw_inv = Sw_inv.T\n",
    "# draw(Sw_inv, (size, size))\n",
    "w = np.dot(Sw_inv, mean_pos - mean_neg) # мб neg - pos\n",
    "draw(w, shape)\n",
    "print min(w) / (max(w) - min(w))\n",
    "print max(w) / (max(w) - min(w))\n",
    "print max(w) - min(w)\n",
    "\n",
    "draw(pos[0], shape)\n",
    "draw(mean_pos, shape)\n",
    "draw(mean_neg, shape)"
   ]
  },
  {
   "cell_type": "code",
   "execution_count": 53,
   "metadata": {
    "collapsed": false
   },
   "outputs": [
    {
     "name": "stdout",
     "output_type": "stream",
     "text": [
      "110.077778718\n",
      "-0.182352535476\n"
     ]
    }
   ],
   "source": [
    "mu_pos = 0\n",
    "for v in pos:\n",
    "    mu_pos += np.dot(w, v)\n",
    "# mu_pos /= len(pos)\n",
    "mu_pos = np.dot(w, mean_pos) / len(pos)\n",
    "\n",
    "mu_neg = 0\n",
    "for v in neg:\n",
    "    mu_neg += np.dot(w, v)\n",
    "# mu_neg /= len(neg)\n",
    "mu_neg = np.dot(w, mean_neg) / len(neg)\n",
    "print mu_pos\n",
    "print mu_neg"
   ]
  },
  {
   "cell_type": "code",
   "execution_count": 54,
   "metadata": {
    "collapsed": true
   },
   "outputs": [],
   "source": [
    "test_folder = '../uiucTest'\n",
    "test_names = read_names(test_folder)"
   ]
  },
  {
   "cell_type": "code",
   "execution_count": 68,
   "metadata": {
    "collapsed": false
   },
   "outputs": [],
   "source": [
    "test_images = read_images(test_folder, test_names)\n",
    "normed = []\n",
    "for img in test_images:\n",
    "    normed.append(normilize(img, shape))\n",
    "    \n",
    "test_images = normed\n",
    "test_images, shape = flatten(test_images)\n",
    "test_images = [to_dict((image, label(test_names, index))) \\\n",
    "                for index, image in enumerate(test_images)]\n"
   ]
  },
  {
   "cell_type": "code",
   "execution_count": 69,
   "metadata": {
    "collapsed": false
   },
   "outputs": [],
   "source": [
    "classifiers = []\n",
    "def classifier(mu1, mu2, index, total, w):\n",
    "    tetta = mu1 + abs(float(mu2 - mu1)) / (total + 1) * (index + 1)\n",
    "    def cl(x):\n",
    "        if np.dot(w, x) >= tetta:\n",
    "            return 1\n",
    "        return -1\n",
    "    return cl\n",
    "\n",
    "cl_number = 10\n",
    "for index in range(cl_number):\n",
    "    classifiers.append(classifier(mu_neg, mu_pos, index, cl_number, w))"
   ]
  },
  {
   "cell_type": "code",
   "execution_count": 70,
   "metadata": {
    "collapsed": false
   },
   "outputs": [
    {
     "ename": "ZeroDivisionError",
     "evalue": "float division by zero",
     "output_type": "error",
     "traceback": [
      "\u001b[0;31m---------------------------------------------------------------------------\u001b[0m",
      "\u001b[0;31mZeroDivisionError\u001b[0m                         Traceback (most recent call last)",
      "\u001b[0;32m<ipython-input-70-6f4985f54c78>\u001b[0m in \u001b[0;36m<module>\u001b[0;34m()\u001b[0m\n\u001b[1;32m     18\u001b[0m             \u001b[0mtrue_neg\u001b[0m \u001b[0;34m+=\u001b[0m \u001b[0;36m1\u001b[0m\u001b[0;34m\u001b[0m\u001b[0m\n\u001b[1;32m     19\u001b[0m     \u001b[0;31m# print float(errors_pos) / len(pos), float(errors_neg) / len(neg), float(errors_pos + errors_neg)/(len(neg) + len(pos))\u001b[0m\u001b[0;34m\u001b[0m\u001b[0;34m\u001b[0m\u001b[0m\n\u001b[0;32m---> 20\u001b[0;31m     \u001b[0mpr\u001b[0m\u001b[0;34m.\u001b[0m\u001b[0mappend\u001b[0m\u001b[0;34m(\u001b[0m\u001b[0mfloat\u001b[0m\u001b[0;34m(\u001b[0m\u001b[0mtrue_pos\u001b[0m\u001b[0;34m)\u001b[0m \u001b[0;34m/\u001b[0m \u001b[0;34m(\u001b[0m\u001b[0mtrue_pos\u001b[0m \u001b[0;34m+\u001b[0m \u001b[0mfalse_pos\u001b[0m\u001b[0;34m)\u001b[0m\u001b[0;34m)\u001b[0m\u001b[0;34m\u001b[0m\u001b[0m\n\u001b[0m\u001b[1;32m     21\u001b[0m     \u001b[0mrec\u001b[0m\u001b[0;34m.\u001b[0m\u001b[0mappend\u001b[0m\u001b[0;34m(\u001b[0m\u001b[0mfloat\u001b[0m\u001b[0;34m(\u001b[0m\u001b[0mtrue_pos\u001b[0m\u001b[0;34m)\u001b[0m \u001b[0;34m/\u001b[0m \u001b[0;34m(\u001b[0m\u001b[0mtrue_pos\u001b[0m \u001b[0;34m+\u001b[0m \u001b[0mfalse_neg\u001b[0m\u001b[0;34m)\u001b[0m\u001b[0;34m)\u001b[0m\u001b[0;34m\u001b[0m\u001b[0m\n\u001b[1;32m     22\u001b[0m \u001b[0;34m\u001b[0m\u001b[0m\n",
      "\u001b[0;31mZeroDivisionError\u001b[0m: float division by zero"
     ]
    }
   ],
   "source": [
    "pr = []\n",
    "rec = []\n",
    "for cl in classifiers:\n",
    "    true_pos = 0\n",
    "    false_neg = 0\n",
    "    for im in pos:\n",
    "        if cl(im) != 1:\n",
    "            false_neg += 1\n",
    "        else:\n",
    "            true_pos += 1\n",
    "    \n",
    "    true_neg = 0\n",
    "    false_pos = 0\n",
    "    for im in neg:\n",
    "        if cl(im) != -1:\n",
    "            false_pos += 1\n",
    "        else:\n",
    "            true_neg += 1\n",
    "    # print float(errors_pos) / len(pos), float(errors_neg) / len(neg), float(errors_pos + errors_neg)/(len(neg) + len(pos))\n",
    "    pr.append(float(true_pos) / (true_pos + false_pos))\n",
    "    rec.append(float(true_pos) / (true_pos + false_neg))\n",
    "    \n",
    "n_groups = cl_number\n",
    " \n",
    "# create plot\n",
    "fig, ax = plt.subplots()\n",
    "index = np.arange(n_groups)\n",
    "bar_width = 0.35\n",
    "opacity = 0.8\n",
    " \n",
    "rects1 = plt.bar(index, pr, bar_width,\n",
    "                 alpha=opacity,\n",
    "                 color='b',\n",
    "                 label='pr')\n",
    " \n",
    "rects2 = plt.bar(index + bar_width, rec, bar_width,\n",
    "                 alpha=opacity,\n",
    "                 color='g',\n",
    "                 label='rec')\n",
    " \n",
    "plt.xlabel('r')\n",
    "plt.ylabel('')\n",
    "plt.title('')\n",
    "plt.xticks(index + bar_width, range(cl_number))\n",
    "plt.legend()\n",
    " \n",
    "plt.tight_layout()\n",
    "plt.show()"
   ]
  },
  {
   "cell_type": "code",
   "execution_count": 14,
   "metadata": {
    "collapsed": false
   },
   "outputs": [
    {
     "name": "stdout",
     "output_type": "stream",
     "text": [
      "0.505882352941\n",
      "0.505882352941\n",
      "0.505882352941\n",
      "0.505882352941\n",
      "0.505882352941\n",
      "0.505882352941\n",
      "0.505882352941\n",
      "0.505882352941\n",
      "0.505882352941\n",
      "0.505882352941\n"
     ]
    }
   ],
   "source": [
    "test_images = read_images(test_folder, test_names)\n",
    "test_images = [normilize(img, shape) for img in test_images]\n",
    "test_images, _ = flatten(test_images)\n",
    "total_test = len(test_images)\n",
    "for cl in classifiers:\n",
    "    correct = 0\n",
    "    for img in test_images:\n",
    "        if cl(img) == 1:\n",
    "            correct += 1\n",
    "    print float(correct) / total_test\n",
    "\n",
    "# img = img[:, :, 0]\n",
    "# draw(img, img.shape)\n",
    "# new_img = normilize(img, shape)\n",
    "# draw(new_img, new_img.shape)\n"
   ]
  },
  {
   "cell_type": "code",
   "execution_count": 15,
   "metadata": {
    "collapsed": false
   },
   "outputs": [
    {
     "data": {
      "text/plain": [
       "(2511,)"
      ]
     },
     "execution_count": 15,
     "metadata": {},
     "output_type": "execute_result"
    }
   ],
   "source": [
    "test_images[9].shape"
   ]
  },
  {
   "cell_type": "code",
   "execution_count": 16,
   "metadata": {
    "collapsed": false
   },
   "outputs": [
    {
     "data": {
      "image/png": "[encoded data removed]",
      "text/plain": [
       "<matplotlib.figure.Figure at 0x13ea4fc50>"
      ]
     },
     "metadata": {},
     "output_type": "display_data"
    }
   ],
   "source": [
    "draw(test_images[4], shape)"
   ]
  }
 ],
 "metadata": {
  "kernelspec": {
   "display_name": "Python 2",
   "language": "python",
   "name": "python2"
  },
  "language_info": {
   "codemirror_mode": {
    "name": "ipython",
    "version": 2
   },
   "file_extension": ".py",
   "mimetype": "text/x-python",
   "name": "python",
   "nbconvert_exporter": "python",
   "pygments_lexer": "ipython2",
   "version": "2.7.13"
  }
 },
 "nbformat": 4,
 "nbformat_minor": 2
}
