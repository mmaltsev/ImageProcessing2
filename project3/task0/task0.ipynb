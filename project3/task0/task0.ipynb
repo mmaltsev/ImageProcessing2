{
 "cells": [
  {
   "cell_type": "code",
   "execution_count": 9,
   "metadata": {
    "collapsed": true
   },
   "outputs": [],
   "source": [
    "import os\n",
    "import numpy as np\n",
    "import scipy.misc as msc"
   ]
  },
  {
   "cell_type": "code",
   "execution_count": 10,
   "metadata": {
    "collapsed": true
   },
   "outputs": [],
   "source": [
    "def read_data(folder):\n",
    "    files = os.listdir(folder)\n",
    "    return files"
   ]
  },
  {
   "cell_type": "code",
   "execution_count": 11,
   "metadata": {
    "collapsed": false
   },
   "outputs": [],
   "source": [
    "train_folder = '../uiucTrain'\n",
    "train_names = read_data(train_folder)"
   ]
  },
  {
   "cell_type": "code",
   "execution_count": 46,
   "metadata": {
    "collapsed": false
   },
   "outputs": [],
   "source": [
    "def read_and_center(folder, names):\n",
    "    X = np.stack([msc.imread(folder + '/' + f) for f in names], axis=0)\n",
    "    shape = X.shape[1:]\n",
    "    X = [image.flatten() for image in X]\n",
    "    mean = np.mean(X, axis=0)\n",
    "    X_center = (X - mean)\n",
    "    return X_center, mean, shape"
   ]
  },
  {
   "cell_type": "code",
   "execution_count": 47,
   "metadata": {
    "collapsed": false
   },
   "outputs": [],
   "source": [
    "train_images, _, shape = read_and_center(train_folder, train_names)\n",
    "train_images = [(image, 1 if 'Pos' in train_names[index] else -1) for index, image in enumerate(train_images)]"
   ]
  },
  {
   "cell_type": "code",
   "execution_count": null,
   "metadata": {
    "collapsed": true
   },
   "outputs": [],
   "source": []
  }
 ],
 "metadata": {
  "kernelspec": {
   "display_name": "Python 2",
   "language": "python",
   "name": "python2"
  },
  "language_info": {
   "codemirror_mode": {
    "name": "ipython",
    "version": 2
   },
   "file_extension": ".py",
   "mimetype": "text/x-python",
   "name": "python",
   "nbconvert_exporter": "python",
   "pygments_lexer": "ipython2",
   "version": "2.7.13"
  }
 },
 "nbformat": 4,
 "nbformat_minor": 2
}
